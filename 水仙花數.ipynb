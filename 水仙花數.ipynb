{
 "cells": [
  {
   "cell_type": "code",
   "execution_count": 2,
   "metadata": {},
   "outputs": [],
   "source": [
    "%matplotlib inline \n",
    "import numpy as np\n",
    "import matplotlib.pyplot as plt\n",
    "import pandas as pd"
   ]
  },
  {
   "cell_type": "code",
   "execution_count": 8,
   "metadata": {},
   "outputs": [
    {
     "name": "stdout",
     "output_type": "stream",
     "text": [
      "153 是水仙花数\n",
      "370 是水仙花数\n",
      "371 是水仙花数\n",
      "407 是水仙花数\n"
     ]
    }
   ],
   "source": [
    "for i in range(100,1000):\n",
    "\n",
    "    first = int(i / 100)\n",
    "\n",
    "    second = int((i % 100) / 10)\n",
    "\n",
    "    third = int((i % 100) % 10 )\n",
    "\n",
    "    sum = first **3 + second **3 + third **3 \n",
    "\n",
    "    if sum == i:\n",
    "\n",
    "        print(str(sum)+\" \"+\"是水仙花数\")"
   ]
  },
  {
   "cell_type": "code",
   "execution_count": null,
   "metadata": {},
   "outputs": [],
   "source": []
  }
 ],
 "metadata": {
  "kernelspec": {
   "display_name": "Python 3",
   "language": "python",
   "name": "python3"
  },
  "language_info": {
   "codemirror_mode": {
    "name": "ipython",
    "version": 3
   },
   "file_extension": ".py",
   "mimetype": "text/x-python",
   "name": "python",
   "nbconvert_exporter": "python",
   "pygments_lexer": "ipython3",
   "version": "3.7.4"
  }
 },
 "nbformat": 4,
 "nbformat_minor": 2
}
