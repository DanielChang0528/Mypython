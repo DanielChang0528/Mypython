{
 "cells": [
  {
   "cell_type": "code",
   "execution_count": 1,
   "metadata": {},
   "outputs": [],
   "source": [
    "%matplotlib inline\n",
    "import numpy as np\n",
    "import matplotlib.pyplot as plt\n",
    "import pandas as pd\n",
    "import math\n",
    "from tkinter import *"
   ]
  },
  {
   "cell_type": "code",
   "execution_count": 14,
   "metadata": {},
   "outputs": [],
   "source": [
    "tk=Tk()\n",
    "canvas=Canvas(tk, width=640, height=480)\n",
    "canvas.pack()\n",
    "x_center,y_center,r=320,240,100\n",
    "x, y=[], []\n",
    "for i in range(12):\n",
    "    x.append(x_center+r*math.cos(30*i*math.pi/180))\n",
    "    y.append(y_center+r*math.sin(30*i*math.pi/180))\n",
    "for i in range(12):\n",
    "    for j in range(12):\n",
    "        canvas.create_line(x[i],y[i],x[j],y[j])\n",
    "tk.mai"
   ]
  },
  {
   "cell_type": "code",
   "execution_count": null,
   "metadata": {},
   "outputs": [],
   "source": []
  }
 ],
 "metadata": {
  "kernelspec": {
   "display_name": "Python 3",
   "language": "python",
   "name": "python3"
  },
  "language_info": {
   "codemirror_mode": {
    "name": "ipython",
    "version": 3
   },
   "file_extension": ".py",
   "mimetype": "text/x-python",
   "name": "python",
   "nbconvert_exporter": "python",
   "pygments_lexer": "ipython3",
   "version": "3.7.4"
  }
 },
 "nbformat": 4,
 "nbformat_minor": 2
}
