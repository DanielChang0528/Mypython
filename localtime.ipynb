{
 "cells": [
  {
   "cell_type": "code",
   "execution_count": 1,
   "metadata": {},
   "outputs": [],
   "source": [
    "%matplotlib inline\n",
    "import numpy as np\n",
    "import matplotlib.pyplot as plt\n",
    "import pandas as pd"
   ]
  },
  {
   "cell_type": "code",
   "execution_count": 2,
   "metadata": {},
   "outputs": [],
   "source": [
    "import time"
   ]
  },
  {
   "cell_type": "code",
   "execution_count": 3,
   "metadata": {},
   "outputs": [],
   "source": [
    "xtime=time.localtime()"
   ]
  },
  {
   "cell_type": "code",
   "execution_count": 6,
   "metadata": {},
   "outputs": [
    {
     "name": "stdout",
     "output_type": "stream",
     "text": [
      "time.struct_time(tm_year=2020, tm_mon=3, tm_mday=2, tm_hour=22, tm_min=14, tm_sec=56, tm_wday=0, tm_yday=62, tm_isdst=0)\n"
     ]
    }
   ],
   "source": [
    "print(xtime)"
   ]
  },
  {
   "cell_type": "code",
   "execution_count": 7,
   "metadata": {},
   "outputs": [
    {
     "name": "stdout",
     "output_type": "stream",
     "text": [
      "年 2020\n",
      "月 3\n",
      "日 2\n",
      "時 22\n",
      "分 14\n",
      "秒 56\n",
      "星期 0\n",
      "第幾天 62\n",
      "夏令時間 0\n"
     ]
    }
   ],
   "source": [
    "print(\"年\",xtime[0])\n",
    "print(\"月\",xtime[1])\n",
    "print(\"日\",xtime[2])\n",
    "print(\"時\",xtime[3])\n",
    "print(\"分\",xtime[4])\n",
    "print(\"秒\",xtime[5])\n",
    "print(\"星期\",xtime[6])\n",
    "print(\"第幾天\",xtime[7])\n",
    "print(\"夏令時間\",xtime[8])"
   ]
  },
  {
   "cell_type": "code",
   "execution_count": null,
   "metadata": {},
   "outputs": [],
   "source": []
  }
 ],
 "metadata": {
  "kernelspec": {
   "display_name": "Python 3",
   "language": "python",
   "name": "python3"
  },
  "language_info": {
   "codemirror_mode": {
    "name": "ipython",
    "version": 3
   },
   "file_extension": ".py",
   "mimetype": "text/x-python",
   "name": "python",
   "nbconvert_exporter": "python",
   "pygments_lexer": "ipython3",
   "version": "3.7.4"
  }
 },
 "nbformat": 4,
 "nbformat_minor": 2
}
